{
 "cells": [
  {
   "cell_type": "markdown",
   "metadata": {},
   "source": [
    "# Segmenting nuclei using a pretrained UNet\n",
    "\n",
    "This notebook is intended to showcase how a pretrained UNet can be used to segment nuclei images from a high-troughput screening experiment. The code is based on the version from [VolkerH/unet-nuclei](https://github.com/VolkerH/unet-nuclei)."
   ]
  },
  {
   "cell_type": "markdown",
   "metadata": {},
   "source": [
    "---\n",
    "\n",
    "## 0. Environmental setup"
   ]
  },
  {
   "cell_type": "code",
   "execution_count": 1,
   "metadata": {},
   "outputs": [],
   "source": [
    "import os\n",
    "import sys\n",
    "\n",
    "sys.path.append(\"..\")\n",
    "\n",
    "from src.segmentation import UnetSegmenter\n",
    "\n",
    "os.environ[\"KERAS_BACKEND\"] =  \"tensorflow\""
   ]
  },
  {
   "cell_type": "markdown",
   "metadata": {},
   "source": [
    "---\n",
    "\n",
    "## 1. Create segmentation instance"
   ]
  },
  {
   "cell_type": "code",
   "execution_count": 2,
   "metadata": {},
   "outputs": [],
   "source": [
    "unet_segmenter = UnetSegmenter(weight_file=\"../data/model.h5\",close_holes=16, remove_objects=100, boundary_boost_factor=1.0)\n",
    "unet_segmenter.initialize([1080,1080], automated_shape_adjustment=True)"
   ]
  },
  {
   "cell_type": "code",
   "execution_count": 3,
   "metadata": {},
   "outputs": [],
   "source": [
    "root_input_dir = \"/home/paysan_d/PycharmProjects/image2reg/data/experiments/image_preprocessing/filtering/filtered\"\n",
    "root_output_dir = \"/home/paysan_d/PycharmProjects/image2reg/data/experiments/unet_segmentation\"\n",
    "\n",
    "input_dirs = []\n",
    "output_dirs = []\n",
    "\n",
    "for input_dir in os.listdir(root_input_dir):\n",
    "    if os.path.isdir(os.path.join(root_input_dir,input_dir)):\n",
    "        input_dirs.append(os.path.join(root_input_dir,input_dir))\n",
    "        output_dirs.append(os.path.join(root_output_dir, input_dir))\n",
    "\n",
    "if len(input_dirs) == 0:\n",
    "    input_dirs = [root_input_dir]\n",
    "    output_dirs = [root_output_dir]"
   ]
  },
  {
   "cell_type": "code",
   "execution_count": 4,
   "metadata": {},
   "outputs": [
    {
     "data": {
      "text/plain": [
       "['/home/paysan_d/PycharmProjects/image2reg/data/experiments/image_preprocessing/filtering/filtered/41756',\n",
       " '/home/paysan_d/PycharmProjects/image2reg/data/experiments/image_preprocessing/filtering/filtered/41754',\n",
       " '/home/paysan_d/PycharmProjects/image2reg/data/experiments/image_preprocessing/filtering/filtered/41755',\n",
       " '/home/paysan_d/PycharmProjects/image2reg/data/experiments/image_preprocessing/filtering/filtered/41744',\n",
       " '/home/paysan_d/PycharmProjects/image2reg/data/experiments/image_preprocessing/filtering/filtered/41757']"
      ]
     },
     "execution_count": 4,
     "metadata": {},
     "output_type": "execute_result"
    }
   ],
   "source": [
    "input_dirs"
   ]
  },
  {
   "cell_type": "code",
   "execution_count": 5,
   "metadata": {},
   "outputs": [
    {
     "name": "stderr",
     "output_type": "stream",
     "text": [
      "\r",
      "  0%|          | 0/3421 [00:00<?, ?it/s]"
     ]
    },
    {
     "name": "stdout",
     "output_type": "stream",
     "text": [
      "Process images in /home/paysan_d/PycharmProjects/image2reg/data/experiments/image_preprocessing/filtering/filtered/41756... Results will be stored in /home/paysan_d/PycharmProjects/image2reg/data/experiments/unet_segmentation/41756\n"
     ]
    },
    {
     "name": "stderr",
     "output_type": "stream",
     "text": [
      "100%|██████████| 3421/3421 [20:47<00:00,  2.74it/s]\n",
      "  0%|          | 0/3373 [00:00<?, ?it/s]"
     ]
    },
    {
     "name": "stdout",
     "output_type": "stream",
     "text": [
      "Process images in /home/paysan_d/PycharmProjects/image2reg/data/experiments/image_preprocessing/filtering/filtered/41754... Results will be stored in /home/paysan_d/PycharmProjects/image2reg/data/experiments/unet_segmentation/41754\n"
     ]
    },
    {
     "name": "stderr",
     "output_type": "stream",
     "text": [
      "100%|██████████| 3373/3373 [19:34<00:00,  2.87it/s]\n",
      "  0%|          | 0/3405 [00:00<?, ?it/s]"
     ]
    },
    {
     "name": "stdout",
     "output_type": "stream",
     "text": [
      "Process images in /home/paysan_d/PycharmProjects/image2reg/data/experiments/image_preprocessing/filtering/filtered/41755... Results will be stored in /home/paysan_d/PycharmProjects/image2reg/data/experiments/unet_segmentation/41755\n"
     ]
    },
    {
     "name": "stderr",
     "output_type": "stream",
     "text": [
      "100%|██████████| 3405/3405 [19:57<00:00,  2.84it/s]\n",
      "  0%|          | 0/3424 [00:00<?, ?it/s]"
     ]
    },
    {
     "name": "stdout",
     "output_type": "stream",
     "text": [
      "Process images in /home/paysan_d/PycharmProjects/image2reg/data/experiments/image_preprocessing/filtering/filtered/41744... Results will be stored in /home/paysan_d/PycharmProjects/image2reg/data/experiments/unet_segmentation/41744\n"
     ]
    },
    {
     "name": "stderr",
     "output_type": "stream",
     "text": [
      "100%|██████████| 3424/3424 [20:05<00:00,  2.84it/s]\n",
      "  0%|          | 0/3417 [00:00<?, ?it/s]"
     ]
    },
    {
     "name": "stdout",
     "output_type": "stream",
     "text": [
      "Process images in /home/paysan_d/PycharmProjects/image2reg/data/experiments/image_preprocessing/filtering/filtered/41757... Results will be stored in /home/paysan_d/PycharmProjects/image2reg/data/experiments/unet_segmentation/41757\n"
     ]
    },
    {
     "name": "stderr",
     "output_type": "stream",
     "text": [
      "100%|██████████| 3417/3417 [20:07<00:00,  2.83it/s]\n"
     ]
    }
   ],
   "source": [
    "for i in range(len(input_dirs)):\n",
    "    print(\"Process images in {}... Results will be stored in {}\".format(input_dirs[i], output_dirs[i]))\n",
    "    unet_segmenter.segment_image_dir(input_dirs[i], output_dirs[i])"
   ]
  },
  {
   "cell_type": "code",
   "execution_count": null,
   "metadata": {},
   "outputs": [],
   "source": []
  },
  {
   "cell_type": "code",
   "execution_count": null,
   "metadata": {},
   "outputs": [],
   "source": []
  }
 ],
 "metadata": {
  "kernelspec": {
   "display_name": "Python 3",
   "language": "python",
   "name": "python3"
  },
  "language_info": {
   "codemirror_mode": {
    "name": "ipython",
    "version": 3
   },
   "file_extension": ".py",
   "mimetype": "text/x-python",
   "name": "python",
   "nbconvert_exporter": "python",
   "pygments_lexer": "ipython3",
   "version": "3.8.10"
  }
 },
 "nbformat": 4,
 "nbformat_minor": 2
}
