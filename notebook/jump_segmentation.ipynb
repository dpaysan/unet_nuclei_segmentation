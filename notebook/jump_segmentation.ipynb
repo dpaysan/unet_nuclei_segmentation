{
 "cells": [
  {
   "cell_type": "markdown",
   "metadata": {},
   "source": [
    "# Segmenting nuclei using a pretrained UNet\n",
    "\n",
    "This notebook is intended to showcase how a pretrained UNet can be used to segment nuclei images from a high-troughput screening experiment. The code is based on the version from [VolkerH/unet-nuclei](https://github.com/VolkerH/unet-nuclei)."
   ]
  },
  {
   "cell_type": "markdown",
   "metadata": {},
   "source": [
    "---\n",
    "\n",
    "## 0. Environmental setup"
   ]
  },
  {
   "cell_type": "code",
   "execution_count": 1,
   "metadata": {},
   "outputs": [],
   "source": [
    "import os\n",
    "import sys\n",
    "\n",
    "sys.path.append(\"..\")\n",
    "\n",
    "from src.segmentation import UnetSegmenter\n",
    "\n",
    "os.environ[\"KERAS_BACKEND\"] =  \"tensorflow\""
   ]
  },
  {
   "cell_type": "markdown",
   "metadata": {},
   "source": [
    "---\n",
    "\n",
    "## 1. Create segmentation instance"
   ]
  },
  {
   "cell_type": "code",
   "execution_count": 2,
   "metadata": {},
   "outputs": [],
   "source": [
    "unet_segmenter = UnetSegmenter(weight_file=\"../data/model.h5\",close_holes=16, remove_objects=100, boundary_boost_factor=1.0)\n",
    "unet_segmenter.initialize([1080,1080], automated_shape_adjustment=True)"
   ]
  },
  {
   "cell_type": "code",
   "execution_count": null,
   "metadata": {},
   "outputs": [],
   "source": []
  },
  {
   "cell_type": "code",
   "execution_count": 3,
   "metadata": {},
   "outputs": [],
   "source": [
    "root_input_dir = \"/home/paysan_d/PycharmProjects/image2reg/data/images/jump/illum_corrected\"\n",
    "root_output_dir = \"/home/paysan_d/PycharmProjects/image2reg/data/images/jump/unet_segmentation\"\n",
    "\n",
    "input_dirs = []\n",
    "output_dirs = []\n",
    "\n",
    "for input_dir in sorted(os.listdir(root_input_dir)):\n",
    "    if os.path.isdir(os.path.join(root_input_dir,input_dir)):\n",
    "        input_dirs.append(os.path.join(root_input_dir,input_dir))\n",
    "        output_dirs.append(os.path.join(root_output_dir, input_dir))\n",
    "\n",
    "if len(input_dirs) == 0:\n",
    "    input_dirs = [root_input_dir]\n",
    "    output_dirs = [root_output_dir]"
   ]
  },
  {
   "cell_type": "code",
   "execution_count": 4,
   "metadata": {},
   "outputs": [
    {
     "data": {
      "text/plain": [
       "['/home/paysan_d/PycharmProjects/image2reg/data/images/jump/illum_corrected/2021_04_26_Batch1',\n",
       " '/home/paysan_d/PycharmProjects/image2reg/data/images/jump/illum_corrected/2021_05_10_Batch3',\n",
       " '/home/paysan_d/PycharmProjects/image2reg/data/images/jump/illum_corrected/2021_05_17_Batch4',\n",
       " '/home/paysan_d/PycharmProjects/image2reg/data/images/jump/illum_corrected/2021_05_31_Batch2',\n",
       " '/home/paysan_d/PycharmProjects/image2reg/data/images/jump/illum_corrected/2021_06_07_Batch5',\n",
       " '/home/paysan_d/PycharmProjects/image2reg/data/images/jump/illum_corrected/2021_06_14_Batch6',\n",
       " '/home/paysan_d/PycharmProjects/image2reg/data/images/jump/illum_corrected/2021_06_21_Batch7',\n",
       " '/home/paysan_d/PycharmProjects/image2reg/data/images/jump/illum_corrected/2021_07_12_Batch8',\n",
       " '/home/paysan_d/PycharmProjects/image2reg/data/images/jump/illum_corrected/2021_07_26_Batch9',\n",
       " '/home/paysan_d/PycharmProjects/image2reg/data/images/jump/illum_corrected/2021_08_02_Batch10',\n",
       " '/home/paysan_d/PycharmProjects/image2reg/data/images/jump/illum_corrected/2021_08_09_Batch11',\n",
       " '/home/paysan_d/PycharmProjects/image2reg/data/images/jump/illum_corrected/2021_08_23_Batch12',\n",
       " '/home/paysan_d/PycharmProjects/image2reg/data/images/jump/illum_corrected/2021_08_30_Batch13']"
      ]
     },
     "execution_count": 4,
     "metadata": {},
     "output_type": "execute_result"
    }
   ],
   "source": [
    "input_dirs"
   ]
  },
  {
   "cell_type": "code",
   "execution_count": 5,
   "metadata": {},
   "outputs": [
    {
     "name": "stderr",
     "output_type": "stream",
     "text": [
      "\r",
      "  0%|          | 0/1980 [00:00<?, ?it/s]"
     ]
    },
    {
     "name": "stdout",
     "output_type": "stream",
     "text": [
      "Process images in /home/paysan_d/PycharmProjects/image2reg/data/images/jump/illum_corrected/2021_04_26_Batch1... Results will be stored in /home/paysan_d/PycharmProjects/image2reg/data/images/jump/unet_segmentation/2021_04_26_Batch1\n"
     ]
    },
    {
     "name": "stderr",
     "output_type": "stream",
     "text": [
      "100%|██████████| 1980/1980 [11:40<00:00,  2.82it/s]\n",
      "  0%|          | 0/1710 [00:00<?, ?it/s]"
     ]
    },
    {
     "name": "stdout",
     "output_type": "stream",
     "text": [
      "Process images in /home/paysan_d/PycharmProjects/image2reg/data/images/jump/illum_corrected/2021_05_10_Batch3... Results will be stored in /home/paysan_d/PycharmProjects/image2reg/data/images/jump/unet_segmentation/2021_05_10_Batch3\n"
     ]
    },
    {
     "name": "stderr",
     "output_type": "stream",
     "text": [
      "100%|██████████| 1710/1710 [09:45<00:00,  2.92it/s]\n",
      "  0%|          | 0/1440 [00:00<?, ?it/s]"
     ]
    },
    {
     "name": "stdout",
     "output_type": "stream",
     "text": [
      "Process images in /home/paysan_d/PycharmProjects/image2reg/data/images/jump/illum_corrected/2021_05_17_Batch4... Results will be stored in /home/paysan_d/PycharmProjects/image2reg/data/images/jump/unet_segmentation/2021_05_17_Batch4\n"
     ]
    },
    {
     "name": "stderr",
     "output_type": "stream",
     "text": [
      "100%|██████████| 1440/1440 [08:17<00:00,  2.90it/s]\n",
      "  0%|          | 0/1854 [00:00<?, ?it/s]"
     ]
    },
    {
     "name": "stdout",
     "output_type": "stream",
     "text": [
      "Process images in /home/paysan_d/PycharmProjects/image2reg/data/images/jump/illum_corrected/2021_05_31_Batch2... Results will be stored in /home/paysan_d/PycharmProjects/image2reg/data/images/jump/unet_segmentation/2021_05_31_Batch2\n"
     ]
    },
    {
     "name": "stderr",
     "output_type": "stream",
     "text": [
      "100%|██████████| 1854/1854 [10:35<00:00,  2.92it/s]\n",
      "  0%|          | 0/1440 [00:00<?, ?it/s]"
     ]
    },
    {
     "name": "stdout",
     "output_type": "stream",
     "text": [
      "Process images in /home/paysan_d/PycharmProjects/image2reg/data/images/jump/illum_corrected/2021_06_07_Batch5... Results will be stored in /home/paysan_d/PycharmProjects/image2reg/data/images/jump/unet_segmentation/2021_06_07_Batch5\n"
     ]
    },
    {
     "name": "stderr",
     "output_type": "stream",
     "text": [
      "100%|██████████| 1440/1440 [08:15<00:00,  2.90it/s]\n",
      "  0%|          | 0/1755 [00:00<?, ?it/s]"
     ]
    },
    {
     "name": "stdout",
     "output_type": "stream",
     "text": [
      "Process images in /home/paysan_d/PycharmProjects/image2reg/data/images/jump/illum_corrected/2021_06_14_Batch6... Results will be stored in /home/paysan_d/PycharmProjects/image2reg/data/images/jump/unet_segmentation/2021_06_14_Batch6\n"
     ]
    },
    {
     "name": "stderr",
     "output_type": "stream",
     "text": [
      "100%|██████████| 1755/1755 [10:08<00:00,  2.88it/s]\n",
      "  0%|          | 0/1755 [00:00<?, ?it/s]"
     ]
    },
    {
     "name": "stdout",
     "output_type": "stream",
     "text": [
      "Process images in /home/paysan_d/PycharmProjects/image2reg/data/images/jump/illum_corrected/2021_06_21_Batch7... Results will be stored in /home/paysan_d/PycharmProjects/image2reg/data/images/jump/unet_segmentation/2021_06_21_Batch7\n"
     ]
    },
    {
     "name": "stderr",
     "output_type": "stream",
     "text": [
      "100%|██████████| 1755/1755 [10:07<00:00,  2.89it/s]\n",
      "  0%|          | 0/1809 [00:00<?, ?it/s]"
     ]
    },
    {
     "name": "stdout",
     "output_type": "stream",
     "text": [
      "Process images in /home/paysan_d/PycharmProjects/image2reg/data/images/jump/illum_corrected/2021_07_12_Batch8... Results will be stored in /home/paysan_d/PycharmProjects/image2reg/data/images/jump/unet_segmentation/2021_07_12_Batch8\n"
     ]
    },
    {
     "name": "stderr",
     "output_type": "stream",
     "text": [
      "100%|██████████| 1809/1809 [10:24<00:00,  2.90it/s]\n",
      "  0%|          | 0/1620 [00:00<?, ?it/s]"
     ]
    },
    {
     "name": "stdout",
     "output_type": "stream",
     "text": [
      "Process images in /home/paysan_d/PycharmProjects/image2reg/data/images/jump/illum_corrected/2021_07_26_Batch9... Results will be stored in /home/paysan_d/PycharmProjects/image2reg/data/images/jump/unet_segmentation/2021_07_26_Batch9\n"
     ]
    },
    {
     "name": "stderr",
     "output_type": "stream",
     "text": [
      "100%|██████████| 1620/1620 [09:20<00:00,  2.89it/s]\n",
      "  0%|          | 0/1170 [00:00<?, ?it/s]"
     ]
    },
    {
     "name": "stdout",
     "output_type": "stream",
     "text": [
      "Process images in /home/paysan_d/PycharmProjects/image2reg/data/images/jump/illum_corrected/2021_08_02_Batch10... Results will be stored in /home/paysan_d/PycharmProjects/image2reg/data/images/jump/unet_segmentation/2021_08_02_Batch10\n"
     ]
    },
    {
     "name": "stderr",
     "output_type": "stream",
     "text": [
      "100%|██████████| 1170/1170 [06:43<00:00,  2.90it/s]\n",
      "  0%|          | 0/1170 [00:00<?, ?it/s]"
     ]
    },
    {
     "name": "stdout",
     "output_type": "stream",
     "text": [
      "Process images in /home/paysan_d/PycharmProjects/image2reg/data/images/jump/illum_corrected/2021_08_09_Batch11... Results will be stored in /home/paysan_d/PycharmProjects/image2reg/data/images/jump/unet_segmentation/2021_08_09_Batch11\n"
     ]
    },
    {
     "name": "stderr",
     "output_type": "stream",
     "text": [
      "100%|██████████| 1170/1170 [06:44<00:00,  2.89it/s]\n",
      "  0%|          | 0/1521 [00:00<?, ?it/s]"
     ]
    },
    {
     "name": "stdout",
     "output_type": "stream",
     "text": [
      "Process images in /home/paysan_d/PycharmProjects/image2reg/data/images/jump/illum_corrected/2021_08_23_Batch12... Results will be stored in /home/paysan_d/PycharmProjects/image2reg/data/images/jump/unet_segmentation/2021_08_23_Batch12\n"
     ]
    },
    {
     "name": "stderr",
     "output_type": "stream",
     "text": [
      "100%|██████████| 1521/1521 [08:45<00:00,  2.89it/s]\n",
      "  0%|          | 0/1518 [00:00<?, ?it/s]"
     ]
    },
    {
     "name": "stdout",
     "output_type": "stream",
     "text": [
      "Process images in /home/paysan_d/PycharmProjects/image2reg/data/images/jump/illum_corrected/2021_08_30_Batch13... Results will be stored in /home/paysan_d/PycharmProjects/image2reg/data/images/jump/unet_segmentation/2021_08_30_Batch13\n"
     ]
    },
    {
     "name": "stderr",
     "output_type": "stream",
     "text": [
      "100%|██████████| 1518/1518 [08:49<00:00,  2.87it/s]\n"
     ]
    }
   ],
   "source": [
    "for i in range(len(input_dirs)):\n",
    "    print(\"Process images in {}... Results will be stored in {}\".format(input_dirs[i], output_dirs[i]))\n",
    "    unet_segmenter.segment_image_dir(input_dirs[i], output_dirs[i])"
   ]
  },
  {
   "cell_type": "code",
   "execution_count": null,
   "metadata": {},
   "outputs": [],
   "source": []
  },
  {
   "cell_type": "code",
   "execution_count": null,
   "metadata": {},
   "outputs": [],
   "source": []
  }
 ],
 "metadata": {
  "kernelspec": {
   "display_name": "Python 3",
   "language": "python",
   "name": "python3"
  },
  "language_info": {
   "codemirror_mode": {
    "name": "ipython",
    "version": 3
   },
   "file_extension": ".py",
   "mimetype": "text/x-python",
   "name": "python",
   "nbconvert_exporter": "python",
   "pygments_lexer": "ipython3",
   "version": "3.8.10"
  },
  "toc": {
   "base_numbering": 1,
   "nav_menu": {},
   "number_sections": true,
   "sideBar": true,
   "skip_h1_title": false,
   "title_cell": "Table of Contents",
   "title_sidebar": "Contents",
   "toc_cell": false,
   "toc_position": {},
   "toc_section_display": true,
   "toc_window_display": false
  }
 },
 "nbformat": 4,
 "nbformat_minor": 2
}
